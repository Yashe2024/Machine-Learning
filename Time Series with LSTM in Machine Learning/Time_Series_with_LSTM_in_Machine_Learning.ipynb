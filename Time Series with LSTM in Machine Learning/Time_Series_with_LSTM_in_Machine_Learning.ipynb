{
  "nbformat": 4,
  "nbformat_minor": 0,
  "metadata": {
    "colab": {
      "provenance": []
    },
    "kernelspec": {
      "name": "python3",
      "display_name": "Python 3"
    },
    "language_info": {
      "name": "python"
    }
  },
  "cells": [
    {
      "cell_type": "code",
      "execution_count": null,
      "metadata": {
        "id": "vwjsGDcDPgMd"
      },
      "outputs": [],
      "source": [
        "import numpy\n",
        "import matplotlib.pyplot as plt\n",
        "import pandas\n",
        "import math\n",
        "from keras.models import Sequential\n",
        "from keras.layers import Dense\n",
        "from keras.layers import LSTM\n",
        "from sklearn.preprocessing import MinMaxScaler\n",
        "from sklearn.metrics import mean_squared_error\n",
        "# fix random seed for reproducibility\n",
        "numpy.random.seed(7)"
      ]
    },
    {
      "cell_type": "code",
      "source": [
        "# load the dataset\n",
        "dataframe = pandas.read_csv('AirPassengers.csv', usecols=[1], engine='python')\n",
        "dataset = dataframe.values\n",
        "dataset = dataset.astype('float32')\n",
        "# normalize the dataset\n",
        "scaler = MinMaxScaler(feature_range=(0, 1))\n",
        "dataset = scaler.fit_transform(dataset)"
      ],
      "metadata": {
        "id": "mm6dZUHKPnSQ"
      },
      "execution_count": null,
      "outputs": []
    },
    {
      "cell_type": "code",
      "source": [
        "# split into train and test sets\n",
        "train_size = int(len(dataset) * 0.67)\n",
        "test_size = len(dataset) - train_size\n",
        "train, test = dataset[0:train_size,:], dataset[train_size:len(dataset),:]\n",
        "print(len(train), len(test))"
      ],
      "metadata": {
        "colab": {
          "base_uri": "https://localhost:8080/"
        },
        "id": "1RP58B33P0cX",
        "outputId": "b99597dc-3773-461d-c28b-9c42dd5c904f"
      },
      "execution_count": null,
      "outputs": [
        {
          "output_type": "stream",
          "name": "stdout",
          "text": [
            "96 48\n"
          ]
        }
      ]
    },
    {
      "cell_type": "code",
      "source": [
        "# convert an array of values into a dataset matrix\n",
        "def create_dataset(dataset, look_back=1):\n",
        "\tdataX, dataY = [], []\n",
        "\tfor i in range(len(dataset)-look_back-1):\n",
        "\t\ta = dataset[i:(i+look_back), 0]\n",
        "\t\tdataX.append(a)\n",
        "\t\tdataY.append(dataset[i + look_back, 0])\n",
        "\treturn numpy.array(dataX), numpy.array(dataY)"
      ],
      "metadata": {
        "id": "jYVDaUPRP2SN"
      },
      "execution_count": null,
      "outputs": []
    },
    {
      "cell_type": "code",
      "source": [
        "# reshape into X=t and Y=t+1\n",
        "look_back = 1\n",
        "trainX, trainY = create_dataset(train, look_back)\n",
        "testX, testY = create_dataset(test, look_back)\n",
        "# reshape input to be [samples, time steps, features]\n",
        "trainX = numpy.reshape(trainX, (trainX.shape[0], 1, trainX.shape[1]))\n",
        "testX = numpy.reshape(testX, (testX.shape[0], 1, testX.shape[1]))"
      ],
      "metadata": {
        "id": "EvK4TC3mP6Ve"
      },
      "execution_count": null,
      "outputs": []
    },
    {
      "cell_type": "code",
      "source": [
        "# create and fit the LSTM network\n",
        "model = Sequential()\n",
        "model.add(LSTM(4, input_shape=(1, look_back)))\n",
        "model.add(Dense(1))\n",
        "model.compile(loss='mean_squared_error', optimizer='adam')\n",
        "model.fit(trainX, trainY, epochs=100, batch_size=1, verbose=2)"
      ],
      "metadata": {
        "colab": {
          "base_uri": "https://localhost:8080/"
        },
        "id": "HGHs5DZEP886",
        "outputId": "4536a17e-3355-4903-ff87-4829b92abf80"
      },
      "execution_count": null,
      "outputs": [
        {
          "output_type": "stream",
          "name": "stderr",
          "text": [
            "/usr/local/lib/python3.10/dist-packages/keras/src/layers/rnn/rnn.py:204: UserWarning: Do not pass an `input_shape`/`input_dim` argument to a layer. When using Sequential models, prefer using an `Input(shape)` object as the first layer in the model instead.\n",
            "  super().__init__(**kwargs)\n"
          ]
        },
        {
          "output_type": "stream",
          "name": "stdout",
          "text": [
            "Epoch 1/100\n",
            "94/94 - 3s - 28ms/step - loss: 0.0532\n",
            "Epoch 2/100\n",
            "94/94 - 0s - 3ms/step - loss: 0.0268\n",
            "Epoch 3/100\n",
            "94/94 - 0s - 2ms/step - loss: 0.0188\n",
            "Epoch 4/100\n",
            "94/94 - 0s - 3ms/step - loss: 0.0165\n",
            "Epoch 5/100\n",
            "94/94 - 0s - 3ms/step - loss: 0.0153\n",
            "Epoch 6/100\n",
            "94/94 - 0s - 3ms/step - loss: 0.0144\n",
            "Epoch 7/100\n",
            "94/94 - 0s - 3ms/step - loss: 0.0137\n",
            "Epoch 8/100\n",
            "94/94 - 0s - 3ms/step - loss: 0.0125\n",
            "Epoch 9/100\n",
            "94/94 - 0s - 2ms/step - loss: 0.0114\n",
            "Epoch 10/100\n",
            "94/94 - 0s - 3ms/step - loss: 0.0105\n",
            "Epoch 11/100\n",
            "94/94 - 0s - 4ms/step - loss: 0.0094\n",
            "Epoch 12/100\n",
            "94/94 - 0s - 3ms/step - loss: 0.0084\n",
            "Epoch 13/100\n",
            "94/94 - 0s - 3ms/step - loss: 0.0074\n",
            "Epoch 14/100\n",
            "94/94 - 0s - 4ms/step - loss: 0.0066\n",
            "Epoch 15/100\n",
            "94/94 - 0s - 2ms/step - loss: 0.0058\n",
            "Epoch 16/100\n",
            "94/94 - 0s - 2ms/step - loss: 0.0049\n",
            "Epoch 17/100\n",
            "94/94 - 0s - 3ms/step - loss: 0.0043\n",
            "Epoch 18/100\n",
            "94/94 - 0s - 3ms/step - loss: 0.0038\n",
            "Epoch 19/100\n",
            "94/94 - 0s - 2ms/step - loss: 0.0033\n",
            "Epoch 20/100\n",
            "94/94 - 0s - 3ms/step - loss: 0.0030\n",
            "Epoch 21/100\n",
            "94/94 - 0s - 3ms/step - loss: 0.0027\n",
            "Epoch 22/100\n",
            "94/94 - 0s - 3ms/step - loss: 0.0025\n",
            "Epoch 23/100\n",
            "94/94 - 0s - 3ms/step - loss: 0.0023\n",
            "Epoch 24/100\n",
            "94/94 - 0s - 3ms/step - loss: 0.0022\n",
            "Epoch 25/100\n",
            "94/94 - 0s - 3ms/step - loss: 0.0021\n",
            "Epoch 26/100\n",
            "94/94 - 0s - 3ms/step - loss: 0.0021\n",
            "Epoch 27/100\n",
            "94/94 - 0s - 2ms/step - loss: 0.0020\n",
            "Epoch 28/100\n",
            "94/94 - 0s - 2ms/step - loss: 0.0020\n",
            "Epoch 29/100\n",
            "94/94 - 0s - 2ms/step - loss: 0.0020\n",
            "Epoch 30/100\n",
            "94/94 - 0s - 3ms/step - loss: 0.0020\n",
            "Epoch 31/100\n",
            "94/94 - 0s - 2ms/step - loss: 0.0021\n",
            "Epoch 32/100\n",
            "94/94 - 0s - 2ms/step - loss: 0.0020\n",
            "Epoch 33/100\n",
            "94/94 - 0s - 3ms/step - loss: 0.0020\n",
            "Epoch 34/100\n",
            "94/94 - 0s - 3ms/step - loss: 0.0020\n",
            "Epoch 35/100\n",
            "94/94 - 0s - 3ms/step - loss: 0.0020\n",
            "Epoch 36/100\n",
            "94/94 - 0s - 3ms/step - loss: 0.0020\n",
            "Epoch 37/100\n",
            "94/94 - 0s - 3ms/step - loss: 0.0021\n",
            "Epoch 38/100\n",
            "94/94 - 0s - 2ms/step - loss: 0.0021\n",
            "Epoch 39/100\n",
            "94/94 - 0s - 2ms/step - loss: 0.0021\n",
            "Epoch 40/100\n",
            "94/94 - 0s - 3ms/step - loss: 0.0021\n",
            "Epoch 41/100\n",
            "94/94 - 0s - 4ms/step - loss: 0.0020\n",
            "Epoch 42/100\n",
            "94/94 - 0s - 3ms/step - loss: 0.0020\n",
            "Epoch 43/100\n",
            "94/94 - 0s - 3ms/step - loss: 0.0020\n",
            "Epoch 44/100\n",
            "94/94 - 0s - 3ms/step - loss: 0.0020\n",
            "Epoch 45/100\n",
            "94/94 - 0s - 3ms/step - loss: 0.0020\n",
            "Epoch 46/100\n",
            "94/94 - 0s - 3ms/step - loss: 0.0020\n",
            "Epoch 47/100\n",
            "94/94 - 0s - 3ms/step - loss: 0.0020\n",
            "Epoch 48/100\n",
            "94/94 - 0s - 3ms/step - loss: 0.0020\n",
            "Epoch 49/100\n",
            "94/94 - 1s - 6ms/step - loss: 0.0021\n",
            "Epoch 50/100\n",
            "94/94 - 0s - 2ms/step - loss: 0.0020\n",
            "Epoch 51/100\n",
            "94/94 - 0s - 3ms/step - loss: 0.0020\n",
            "Epoch 52/100\n",
            "94/94 - 0s - 3ms/step - loss: 0.0020\n",
            "Epoch 53/100\n",
            "94/94 - 0s - 3ms/step - loss: 0.0020\n",
            "Epoch 54/100\n",
            "94/94 - 0s - 3ms/step - loss: 0.0020\n",
            "Epoch 55/100\n",
            "94/94 - 0s - 3ms/step - loss: 0.0020\n",
            "Epoch 56/100\n",
            "94/94 - 0s - 3ms/step - loss: 0.0021\n",
            "Epoch 57/100\n",
            "94/94 - 0s - 3ms/step - loss: 0.0020\n",
            "Epoch 58/100\n",
            "94/94 - 0s - 2ms/step - loss: 0.0020\n",
            "Epoch 59/100\n",
            "94/94 - 0s - 2ms/step - loss: 0.0020\n",
            "Epoch 60/100\n",
            "94/94 - 0s - 2ms/step - loss: 0.0020\n",
            "Epoch 61/100\n",
            "94/94 - 0s - 4ms/step - loss: 0.0020\n",
            "Epoch 62/100\n",
            "94/94 - 0s - 3ms/step - loss: 0.0021\n",
            "Epoch 63/100\n",
            "94/94 - 0s - 3ms/step - loss: 0.0020\n",
            "Epoch 64/100\n",
            "94/94 - 0s - 3ms/step - loss: 0.0020\n",
            "Epoch 65/100\n",
            "94/94 - 0s - 2ms/step - loss: 0.0019\n",
            "Epoch 66/100\n",
            "94/94 - 0s - 3ms/step - loss: 0.0020\n",
            "Epoch 67/100\n",
            "94/94 - 0s - 3ms/step - loss: 0.0020\n",
            "Epoch 68/100\n",
            "94/94 - 0s - 2ms/step - loss: 0.0020\n",
            "Epoch 69/100\n",
            "94/94 - 0s - 3ms/step - loss: 0.0021\n",
            "Epoch 70/100\n",
            "94/94 - 0s - 3ms/step - loss: 0.0020\n",
            "Epoch 71/100\n",
            "94/94 - 0s - 2ms/step - loss: 0.0020\n",
            "Epoch 72/100\n",
            "94/94 - 0s - 3ms/step - loss: 0.0020\n",
            "Epoch 73/100\n",
            "94/94 - 0s - 3ms/step - loss: 0.0020\n",
            "Epoch 74/100\n",
            "94/94 - 0s - 3ms/step - loss: 0.0020\n",
            "Epoch 75/100\n",
            "94/94 - 0s - 2ms/step - loss: 0.0020\n",
            "Epoch 76/100\n",
            "94/94 - 0s - 2ms/step - loss: 0.0020\n",
            "Epoch 77/100\n",
            "94/94 - 0s - 3ms/step - loss: 0.0020\n",
            "Epoch 78/100\n",
            "94/94 - 0s - 3ms/step - loss: 0.0020\n",
            "Epoch 79/100\n",
            "94/94 - 0s - 2ms/step - loss: 0.0020\n",
            "Epoch 80/100\n",
            "94/94 - 0s - 2ms/step - loss: 0.0020\n",
            "Epoch 81/100\n",
            "94/94 - 0s - 3ms/step - loss: 0.0020\n",
            "Epoch 82/100\n",
            "94/94 - 0s - 2ms/step - loss: 0.0020\n",
            "Epoch 83/100\n",
            "94/94 - 0s - 2ms/step - loss: 0.0020\n",
            "Epoch 84/100\n",
            "94/94 - 0s - 3ms/step - loss: 0.0020\n",
            "Epoch 85/100\n",
            "94/94 - 0s - 3ms/step - loss: 0.0020\n",
            "Epoch 86/100\n",
            "94/94 - 0s - 3ms/step - loss: 0.0021\n",
            "Epoch 87/100\n",
            "94/94 - 0s - 3ms/step - loss: 0.0020\n",
            "Epoch 88/100\n",
            "94/94 - 0s - 3ms/step - loss: 0.0020\n",
            "Epoch 89/100\n",
            "94/94 - 0s - 3ms/step - loss: 0.0020\n",
            "Epoch 90/100\n",
            "94/94 - 0s - 3ms/step - loss: 0.0021\n",
            "Epoch 91/100\n",
            "94/94 - 0s - 3ms/step - loss: 0.0020\n",
            "Epoch 92/100\n",
            "94/94 - 0s - 3ms/step - loss: 0.0020\n",
            "Epoch 93/100\n",
            "94/94 - 0s - 3ms/step - loss: 0.0020\n",
            "Epoch 94/100\n",
            "94/94 - 0s - 3ms/step - loss: 0.0020\n",
            "Epoch 95/100\n",
            "94/94 - 0s - 3ms/step - loss: 0.0020\n",
            "Epoch 96/100\n",
            "94/94 - 0s - 3ms/step - loss: 0.0020\n",
            "Epoch 97/100\n",
            "94/94 - 0s - 3ms/step - loss: 0.0020\n",
            "Epoch 98/100\n",
            "94/94 - 0s - 4ms/step - loss: 0.0020\n",
            "Epoch 99/100\n",
            "94/94 - 0s - 2ms/step - loss: 0.0020\n",
            "Epoch 100/100\n",
            "94/94 - 0s - 3ms/step - loss: 0.0020\n"
          ]
        },
        {
          "output_type": "execute_result",
          "data": {
            "text/plain": [
              "<keras.src.callbacks.history.History at 0x7f0dbc3af640>"
            ]
          },
          "metadata": {},
          "execution_count": 8
        }
      ]
    },
    {
      "cell_type": "code",
      "source": [
        "# make predictions\n",
        "trainPredict = model.predict(trainX)\n",
        "testPredict = model.predict(testX)\n",
        "# invert predictions\n",
        "trainPredict = scaler.inverse_transform(trainPredict)\n",
        "trainY = scaler.inverse_transform([trainY])\n",
        "testPredict = scaler.inverse_transform(testPredict)\n",
        "testY = scaler.inverse_transform([testY])\n",
        "# calculate root mean squared error\n",
        "trainScore = math.sqrt(mean_squared_error(trainY[0], trainPredict[:,0]))\n",
        "testScore = math.sqrt(mean_squared_error(testY[0], testPredict[:,0]))\n",
        "\n",
        "# shift train predictions for plotting\n",
        "trainPredictPlot = numpy.empty_like(dataset)\n",
        "trainPredictPlot[:, :] = numpy.nan\n",
        "trainPredictPlot[look_back:len(trainPredict)+look_back, :] = trainPredict\n",
        "# shift test predictions for plotting\n",
        "testPredictPlot = numpy.empty_like(dataset)\n",
        "testPredictPlot[:, :] = numpy.nan\n",
        "testPredictPlot[len(trainPredict)+(look_back*2)+1:len(dataset)-1, :] = testPredict\n",
        "# plot baseline and predictions\n",
        "plt.plot(scaler.inverse_transform(dataset))\n",
        "plt.plot(trainPredictPlot)\n",
        "plt.plot(testPredictPlot)\n",
        "plt.show()"
      ],
      "metadata": {
        "colab": {
          "base_uri": "https://localhost:8080/",
          "height": 466
        },
        "id": "RMqLa5b-QE31",
        "outputId": "f5794751-981d-41f9-9e89-53a2c063d8f2"
      },
      "execution_count": null,
      "outputs": [
        {
          "output_type": "stream",
          "name": "stdout",
          "text": [
            "\u001b[1m3/3\u001b[0m \u001b[32m━━━━━━━━━━━━━━━━━━━━\u001b[0m\u001b[37m\u001b[0m \u001b[1m1s\u001b[0m 256ms/step\n",
            "\u001b[1m2/2\u001b[0m \u001b[32m━━━━━━━━━━━━━━━━━━━━\u001b[0m\u001b[37m\u001b[0m \u001b[1m0s\u001b[0m 8ms/step \n"
          ]
        },
        {
          "output_type": "display_data",
          "data": {
            "text/plain": [
              "<Figure size 640x480 with 1 Axes>"
            ],
            "image/png": "[encoded data removed]"
          },
          "metadata": {}
        }
      ]
    }
  ]
}